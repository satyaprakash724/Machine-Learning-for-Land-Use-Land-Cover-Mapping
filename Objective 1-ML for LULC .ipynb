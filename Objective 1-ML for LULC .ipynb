{
 "cells": [
  {
   "cell_type": "code",
   "execution_count": 1,
   "id": "c23f5287",
   "metadata": {},
   "outputs": [
    {
     "name": "stderr",
     "output_type": "stream",
     "text": [
      "C:\\Users\\Manager\\anaconda3\\lib\\site-packages\\paramiko\\transport.py:219: CryptographyDeprecationWarning: Blowfish has been deprecated and will be removed in a future release\n",
      "  \"class\": algorithms.Blowfish,\n"
     ]
    }
   ],
   "source": [
    "import os\n",
    "os.environ['USE_PYGEOS'] = '0'\n",
    "from glob import glob\n",
    "import numpy as np\n",
    "from scipy.io import loadmat\n",
    "import rasterio as rio\n",
    "import geopandas as gpd\n",
    "import earthpy as et\n",
    "import earthpy.plot as ep\n",
    "from matplotlib import pyplot as plt"
   ]
  },
  {
   "cell_type": "code",
   "execution_count": 2,
   "id": "4d87556c",
   "metadata": {},
   "outputs": [],
   "source": [
    "#Import Data\n",
    "S_LISS = glob(\"C:/Users/Manager/Desktop/Data/26APR_2023/Indices/*.tif\")\n",
    "S_LISS.sort()"
   ]
  },
  {
   "cell_type": "code",
   "execution_count": 3,
   "id": "2482be44",
   "metadata": {},
   "outputs": [
    {
     "name": "stdout",
     "output_type": "stream",
     "text": [
      "['C:/Users/Manager/Desktop/Data/26APR_2023/Indices\\\\GEMI.tif', 'C:/Users/Manager/Desktop/Data/26APR_2023/Indices\\\\GNDVI.tif', 'C:/Users/Manager/Desktop/Data/26APR_2023/Indices\\\\MSAVI.tif', 'C:/Users/Manager/Desktop/Data/26APR_2023/Indices\\\\MTVI2.tif', 'C:/Users/Manager/Desktop/Data/26APR_2023/Indices\\\\NDVIre.tif', 'C:/Users/Manager/Desktop/Data/26APR_2023/Indices\\\\NG.tif', 'C:/Users/Manager/Desktop/Data/26APR_2023/Indices\\\\NNIR.tif', 'C:/Users/Manager/Desktop/Data/26APR_2023/Indices\\\\NR.tif', 'C:/Users/Manager/Desktop/Data/26APR_2023/Indices\\\\SAVI.tif', 'C:/Users/Manager/Desktop/Data/26APR_2023/Indices\\\\SR.tif', 'C:/Users/Manager/Desktop/Data/26APR_2023/Indices\\\\VIgreen.tif', 'C:/Users/Manager/Desktop/Data/26APR_2023/Indices\\\\b1_nt.tif', 'C:/Users/Manager/Desktop/Data/26APR_2023/Indices\\\\b2_nt.tif', 'C:/Users/Manager/Desktop/Data/26APR_2023/Indices\\\\b3_nt.tif', 'C:/Users/Manager/Desktop/Data/26APR_2023/Indices\\\\ndvi.tif', 'C:/Users/Manager/Desktop/Data/26APR_2023/Indices\\\\ndwi.tif']\n"
     ]
    }
   ],
   "source": [
    "print (S_LISS)"
   ]
  },
  {
   "cell_type": "code",
   "execution_count": 4,
   "id": "02fff88b",
   "metadata": {},
   "outputs": [],
   "source": [
    "l = []\n",
    "for i in S_LISS:\n",
    "  with rio.open(i, 'r') as f:\n",
    "    l.append(f.read(1))"
   ]
  },
  {
   "cell_type": "code",
   "execution_count": 5,
   "id": "2701f7fd",
   "metadata": {},
   "outputs": [
    {
     "data": {
      "text/plain": [
       "(16, 7681, 1087)"
      ]
     },
     "execution_count": 5,
     "metadata": {},
     "output_type": "execute_result"
    }
   ],
   "source": [
    "# Data\n",
    "arr_st = np.stack(l)\n",
    "arr_st.shape"
   ]
  },
  {
   "cell_type": "code",
   "execution_count": 6,
   "id": "7bbf8fca",
   "metadata": {},
   "outputs": [],
   "source": [
    "#Spatial Crossvalidation\n",
    "import spacv\n",
    "from spacv.grid_builder import *\n",
    "from spacv.utils import *\n",
    "import geopandas as gpd\n",
    "from sklearn.model_selection import cross_val_score, KFold, GroupKFold\n",
    "from sklearn.metrics import f1_score, make_scorer\n",
    "from sklearn.svm import SVC\n",
    "from sklearn.ensemble import RandomForestClassifier\n",
    "from xgboost import XGBClassifier\n",
    "from sklearn.preprocessing import LabelEncoder\n",
    "import lightgbm as lgb"
   ]
  },
  {
   "cell_type": "code",
   "execution_count": 7,
   "id": "12290b33",
   "metadata": {},
   "outputs": [
    {
     "data": {
      "text/html": [
       "<div>\n",
       "<style scoped>\n",
       "    .dataframe tbody tr th:only-of-type {\n",
       "        vertical-align: middle;\n",
       "    }\n",
       "\n",
       "    .dataframe tbody tr th {\n",
       "        vertical-align: top;\n",
       "    }\n",
       "\n",
       "    .dataframe thead th {\n",
       "        text-align: right;\n",
       "    }\n",
       "</style>\n",
       "<table border=\"1\" class=\"dataframe\">\n",
       "  <thead>\n",
       "    <tr style=\"text-align: right;\">\n",
       "      <th></th>\n",
       "      <th>OBJECTID</th>\n",
       "      <th>Name_3</th>\n",
       "      <th>b1_nt</th>\n",
       "      <th>b2_nt</th>\n",
       "      <th>b3_nt</th>\n",
       "      <th>NG</th>\n",
       "      <th>NNIR</th>\n",
       "      <th>NR</th>\n",
       "      <th>VIgreen</th>\n",
       "      <th>MTVI2</th>\n",
       "      <th>...</th>\n",
       "      <th>SAVI</th>\n",
       "      <th>SR</th>\n",
       "      <th>ndvi</th>\n",
       "      <th>ndwi</th>\n",
       "      <th>NDVIre</th>\n",
       "      <th>GNDVI</th>\n",
       "      <th>GEMI</th>\n",
       "      <th>spcv</th>\n",
       "      <th>SHAP</th>\n",
       "      <th>geometry</th>\n",
       "    </tr>\n",
       "  </thead>\n",
       "  <tbody>\n",
       "    <tr>\n",
       "      <th>0</th>\n",
       "      <td>1.0</td>\n",
       "      <td>7</td>\n",
       "      <td>0.0594</td>\n",
       "      <td>0.0448</td>\n",
       "      <td>0.0334</td>\n",
       "      <td>0.431686</td>\n",
       "      <td>0.242733</td>\n",
       "      <td>0.325581</td>\n",
       "      <td>0.140115</td>\n",
       "      <td>0.006500</td>\n",
       "      <td>...</td>\n",
       "      <td>-0.029575</td>\n",
       "      <td>0.745536</td>\n",
       "      <td>-0.145780</td>\n",
       "      <td>0.280172</td>\n",
       "      <td>-0.145780</td>\n",
       "      <td>-0.280172</td>\n",
       "      <td>0.202527</td>\n",
       "      <td>1</td>\n",
       "      <td>2</td>\n",
       "      <td>POINT (77.59763 13.11348)</td>\n",
       "    </tr>\n",
       "    <tr>\n",
       "      <th>1</th>\n",
       "      <td>2.0</td>\n",
       "      <td>7</td>\n",
       "      <td>0.0582</td>\n",
       "      <td>0.0448</td>\n",
       "      <td>0.0369</td>\n",
       "      <td>0.416011</td>\n",
       "      <td>0.263760</td>\n",
       "      <td>0.320229</td>\n",
       "      <td>0.130097</td>\n",
       "      <td>0.009757</td>\n",
       "      <td>...</td>\n",
       "      <td>-0.020371</td>\n",
       "      <td>0.823661</td>\n",
       "      <td>-0.096695</td>\n",
       "      <td>0.223975</td>\n",
       "      <td>-0.096695</td>\n",
       "      <td>-0.223975</td>\n",
       "      <td>0.211083</td>\n",
       "      <td>1</td>\n",
       "      <td>2</td>\n",
       "      <td>POINT (77.59764 13.11352)</td>\n",
       "    </tr>\n",
       "    <tr>\n",
       "      <th>2</th>\n",
       "      <td>3.0</td>\n",
       "      <td>7</td>\n",
       "      <td>0.0619</td>\n",
       "      <td>0.0484</td>\n",
       "      <td>0.0380</td>\n",
       "      <td>0.417397</td>\n",
       "      <td>0.256237</td>\n",
       "      <td>0.326365</td>\n",
       "      <td>0.122393</td>\n",
       "      <td>0.006149</td>\n",
       "      <td>...</td>\n",
       "      <td>-0.026603</td>\n",
       "      <td>0.785124</td>\n",
       "      <td>-0.120370</td>\n",
       "      <td>0.239239</td>\n",
       "      <td>-0.120370</td>\n",
       "      <td>-0.239239</td>\n",
       "      <td>0.211320</td>\n",
       "      <td>1</td>\n",
       "      <td>2</td>\n",
       "      <td>POINT (77.59770 13.11352)</td>\n",
       "    </tr>\n",
       "    <tr>\n",
       "      <th>3</th>\n",
       "      <td>4.0</td>\n",
       "      <td>7</td>\n",
       "      <td>0.0619</td>\n",
       "      <td>0.0484</td>\n",
       "      <td>0.0357</td>\n",
       "      <td>0.423973</td>\n",
       "      <td>0.244521</td>\n",
       "      <td>0.331507</td>\n",
       "      <td>0.122393</td>\n",
       "      <td>0.002798</td>\n",
       "      <td>...</td>\n",
       "      <td>-0.032614</td>\n",
       "      <td>0.737603</td>\n",
       "      <td>-0.151011</td>\n",
       "      <td>0.268443</td>\n",
       "      <td>-0.151011</td>\n",
       "      <td>-0.268443</td>\n",
       "      <td>0.205760</td>\n",
       "      <td>1</td>\n",
       "      <td>2</td>\n",
       "      <td>POINT (77.59772 13.11349)</td>\n",
       "    </tr>\n",
       "    <tr>\n",
       "      <th>4</th>\n",
       "      <td>5.0</td>\n",
       "      <td>7</td>\n",
       "      <td>0.0607</td>\n",
       "      <td>0.0460</td>\n",
       "      <td>0.0380</td>\n",
       "      <td>0.419489</td>\n",
       "      <td>0.262612</td>\n",
       "      <td>0.317899</td>\n",
       "      <td>0.137769</td>\n",
       "      <td>0.011639</td>\n",
       "      <td>...</td>\n",
       "      <td>-0.020548</td>\n",
       "      <td>0.826087</td>\n",
       "      <td>-0.095238</td>\n",
       "      <td>0.229990</td>\n",
       "      <td>-0.095238</td>\n",
       "      <td>-0.229990</td>\n",
       "      <td>0.212959</td>\n",
       "      <td>1</td>\n",
       "      <td>2</td>\n",
       "      <td>POINT (77.59772 13.11344)</td>\n",
       "    </tr>\n",
       "    <tr>\n",
       "      <th>...</th>\n",
       "      <td>...</td>\n",
       "      <td>...</td>\n",
       "      <td>...</td>\n",
       "      <td>...</td>\n",
       "      <td>...</td>\n",
       "      <td>...</td>\n",
       "      <td>...</td>\n",
       "      <td>...</td>\n",
       "      <td>...</td>\n",
       "      <td>...</td>\n",
       "      <td>...</td>\n",
       "      <td>...</td>\n",
       "      <td>...</td>\n",
       "      <td>...</td>\n",
       "      <td>...</td>\n",
       "      <td>...</td>\n",
       "      <td>...</td>\n",
       "      <td>...</td>\n",
       "      <td>...</td>\n",
       "      <td>...</td>\n",
       "      <td>...</td>\n",
       "    </tr>\n",
       "    <tr>\n",
       "      <th>3399</th>\n",
       "      <td>220.0</td>\n",
       "      <td>4</td>\n",
       "      <td>0.0473</td>\n",
       "      <td>0.0578</td>\n",
       "      <td>0.1315</td>\n",
       "      <td>0.199915</td>\n",
       "      <td>0.555790</td>\n",
       "      <td>0.244294</td>\n",
       "      <td>-0.099905</td>\n",
       "      <td>0.091348</td>\n",
       "      <td>...</td>\n",
       "      <td>0.160380</td>\n",
       "      <td>2.275090</td>\n",
       "      <td>0.389329</td>\n",
       "      <td>-0.470917</td>\n",
       "      <td>0.389329</td>\n",
       "      <td>0.470917</td>\n",
       "      <td>0.405929</td>\n",
       "      <td>5</td>\n",
       "      <td>3</td>\n",
       "      <td>POINT (77.59080 13.39295)</td>\n",
       "    </tr>\n",
       "    <tr>\n",
       "      <th>3400</th>\n",
       "      <td>221.0</td>\n",
       "      <td>4</td>\n",
       "      <td>0.0461</td>\n",
       "      <td>0.0590</td>\n",
       "      <td>0.1281</td>\n",
       "      <td>0.197684</td>\n",
       "      <td>0.549314</td>\n",
       "      <td>0.253002</td>\n",
       "      <td>-0.122740</td>\n",
       "      <td>0.080378</td>\n",
       "      <td>...</td>\n",
       "      <td>0.150851</td>\n",
       "      <td>2.171190</td>\n",
       "      <td>0.369321</td>\n",
       "      <td>-0.470723</td>\n",
       "      <td>0.369321</td>\n",
       "      <td>0.470723</td>\n",
       "      <td>0.397919</td>\n",
       "      <td>5</td>\n",
       "      <td>3</td>\n",
       "      <td>POINT (77.59085 13.39295)</td>\n",
       "    </tr>\n",
       "    <tr>\n",
       "      <th>3401</th>\n",
       "      <td>222.0</td>\n",
       "      <td>4</td>\n",
       "      <td>0.0461</td>\n",
       "      <td>0.0554</td>\n",
       "      <td>0.1179</td>\n",
       "      <td>0.210119</td>\n",
       "      <td>0.537375</td>\n",
       "      <td>0.252507</td>\n",
       "      <td>-0.091626</td>\n",
       "      <td>0.077135</td>\n",
       "      <td>...</td>\n",
       "      <td>0.139240</td>\n",
       "      <td>2.128160</td>\n",
       "      <td>0.360646</td>\n",
       "      <td>-0.437805</td>\n",
       "      <td>0.360646</td>\n",
       "      <td>0.437805</td>\n",
       "      <td>0.381438</td>\n",
       "      <td>5</td>\n",
       "      <td>3</td>\n",
       "      <td>POINT (77.59085 13.39290)</td>\n",
       "    </tr>\n",
       "    <tr>\n",
       "      <th>3402</th>\n",
       "      <td>223.0</td>\n",
       "      <td>4</td>\n",
       "      <td>0.0449</td>\n",
       "      <td>0.0530</td>\n",
       "      <td>0.1213</td>\n",
       "      <td>0.204836</td>\n",
       "      <td>0.553376</td>\n",
       "      <td>0.241788</td>\n",
       "      <td>-0.082738</td>\n",
       "      <td>0.088452</td>\n",
       "      <td>...</td>\n",
       "      <td>0.151935</td>\n",
       "      <td>2.288680</td>\n",
       "      <td>0.391853</td>\n",
       "      <td>-0.459687</td>\n",
       "      <td>0.391853</td>\n",
       "      <td>0.459687</td>\n",
       "      <td>0.390814</td>\n",
       "      <td>5</td>\n",
       "      <td>3</td>\n",
       "      <td>POINT (77.59085 13.39284)</td>\n",
       "    </tr>\n",
       "    <tr>\n",
       "      <th>3403</th>\n",
       "      <td>224.0</td>\n",
       "      <td>4</td>\n",
       "      <td>0.0424</td>\n",
       "      <td>0.0470</td>\n",
       "      <td>0.1191</td>\n",
       "      <td>0.203357</td>\n",
       "      <td>0.571223</td>\n",
       "      <td>0.225420</td>\n",
       "      <td>-0.051454</td>\n",
       "      <td>0.102012</td>\n",
       "      <td>...</td>\n",
       "      <td>0.162363</td>\n",
       "      <td>2.534040</td>\n",
       "      <td>0.434076</td>\n",
       "      <td>-0.474923</td>\n",
       "      <td>0.434076</td>\n",
       "      <td>0.474923</td>\n",
       "      <td>0.392483</td>\n",
       "      <td>5</td>\n",
       "      <td>3</td>\n",
       "      <td>POINT (77.59080 13.39284)</td>\n",
       "    </tr>\n",
       "  </tbody>\n",
       "</table>\n",
       "<p>3404 rows × 21 columns</p>\n",
       "</div>"
      ],
      "text/plain": [
       "      OBJECTID Name_3   b1_nt   b2_nt   b3_nt        NG      NNIR        NR  \\\n",
       "0          1.0      7  0.0594  0.0448  0.0334  0.431686  0.242733  0.325581   \n",
       "1          2.0      7  0.0582  0.0448  0.0369  0.416011  0.263760  0.320229   \n",
       "2          3.0      7  0.0619  0.0484  0.0380  0.417397  0.256237  0.326365   \n",
       "3          4.0      7  0.0619  0.0484  0.0357  0.423973  0.244521  0.331507   \n",
       "4          5.0      7  0.0607  0.0460  0.0380  0.419489  0.262612  0.317899   \n",
       "...        ...    ...     ...     ...     ...       ...       ...       ...   \n",
       "3399     220.0      4  0.0473  0.0578  0.1315  0.199915  0.555790  0.244294   \n",
       "3400     221.0      4  0.0461  0.0590  0.1281  0.197684  0.549314  0.253002   \n",
       "3401     222.0      4  0.0461  0.0554  0.1179  0.210119  0.537375  0.252507   \n",
       "3402     223.0      4  0.0449  0.0530  0.1213  0.204836  0.553376  0.241788   \n",
       "3403     224.0      4  0.0424  0.0470  0.1191  0.203357  0.571223  0.225420   \n",
       "\n",
       "       VIgreen     MTVI2  ...      SAVI        SR      ndvi      ndwi  \\\n",
       "0     0.140115  0.006500  ... -0.029575  0.745536 -0.145780  0.280172   \n",
       "1     0.130097  0.009757  ... -0.020371  0.823661 -0.096695  0.223975   \n",
       "2     0.122393  0.006149  ... -0.026603  0.785124 -0.120370  0.239239   \n",
       "3     0.122393  0.002798  ... -0.032614  0.737603 -0.151011  0.268443   \n",
       "4     0.137769  0.011639  ... -0.020548  0.826087 -0.095238  0.229990   \n",
       "...        ...       ...  ...       ...       ...       ...       ...   \n",
       "3399 -0.099905  0.091348  ...  0.160380  2.275090  0.389329 -0.470917   \n",
       "3400 -0.122740  0.080378  ...  0.150851  2.171190  0.369321 -0.470723   \n",
       "3401 -0.091626  0.077135  ...  0.139240  2.128160  0.360646 -0.437805   \n",
       "3402 -0.082738  0.088452  ...  0.151935  2.288680  0.391853 -0.459687   \n",
       "3403 -0.051454  0.102012  ...  0.162363  2.534040  0.434076 -0.474923   \n",
       "\n",
       "        NDVIre     GNDVI      GEMI  spcv  SHAP                   geometry  \n",
       "0    -0.145780 -0.280172  0.202527     1     2  POINT (77.59763 13.11348)  \n",
       "1    -0.096695 -0.223975  0.211083     1     2  POINT (77.59764 13.11352)  \n",
       "2    -0.120370 -0.239239  0.211320     1     2  POINT (77.59770 13.11352)  \n",
       "3    -0.151011 -0.268443  0.205760     1     2  POINT (77.59772 13.11349)  \n",
       "4    -0.095238 -0.229990  0.212959     1     2  POINT (77.59772 13.11344)  \n",
       "...        ...       ...       ...   ...   ...                        ...  \n",
       "3399  0.389329  0.470917  0.405929     5     3  POINT (77.59080 13.39295)  \n",
       "3400  0.369321  0.470723  0.397919     5     3  POINT (77.59085 13.39295)  \n",
       "3401  0.360646  0.437805  0.381438     5     3  POINT (77.59085 13.39290)  \n",
       "3402  0.391853  0.459687  0.390814     5     3  POINT (77.59085 13.39284)  \n",
       "3403  0.434076  0.474923  0.392483     5     3  POINT (77.59080 13.39284)  \n",
       "\n",
       "[3404 rows x 21 columns]"
      ]
     },
     "execution_count": 7,
     "metadata": {},
     "output_type": "execute_result"
    }
   ],
   "source": [
    "# Ground Truth\n",
    "y_data = gpd.read_file('C:/Users/Manager/Desktop/Data/26APR_2023/Sample points/Sample_Points_F10_with_SPCV.shp')\n",
    "y_data"
   ]
  },
  {
   "cell_type": "code",
   "execution_count": 324,
   "id": "8154de77",
   "metadata": {},
   "outputs": [],
   "source": [
    "XYs = y_data['geometry']\n",
    "X = y_data.iloc[:,2:18]\n",
    "y = y_data['Name_3'].values.tolist()\n",
    "spcv_groups = y_data['spcv']"
   ]
  },
  {
   "cell_type": "code",
   "execution_count": 9,
   "id": "092fdd02",
   "metadata": {},
   "outputs": [],
   "source": [
    "le = LabelEncoder()\n",
    "y = le.fit_transform(y)"
   ]
  },
  {
   "cell_type": "code",
   "execution_count": 10,
   "id": "c46b2ce4",
   "metadata": {},
   "outputs": [],
   "source": [
    "f1_scoring = make_scorer(f1_score, average='macro')"
   ]
  },
  {
   "cell_type": "code",
   "execution_count": 11,
   "id": "7f5af605",
   "metadata": {},
   "outputs": [
    {
     "data": {
      "image/png": "[encoded data removed]",
      "text/plain": [
       "<Figure size 640x480 with 1 Axes>"
      ]
     },
     "metadata": {},
     "output_type": "display_data"
    }
   ],
   "source": [
    "y_data.plot(column=\"spcv\")\n",
    "plt.show()"
   ]
  },
  {
   "cell_type": "markdown",
   "id": "15c7c9b6",
   "metadata": {},
   "source": [
    "## Random Forest"
   ]
  },
  {
   "cell_type": "code",
   "execution_count": 12,
   "id": "b6cb44bd",
   "metadata": {},
   "outputs": [],
   "source": [
    "model_rf = RandomForestClassifier(n_estimators=1000, max_features= 'sqrt', max_depth=15, random_state=23)"
   ]
  },
  {
   "cell_type": "markdown",
   "id": "3a4ef15f",
   "metadata": {},
   "source": [
    "### RF Random CV (six folds)"
   ]
  },
  {
   "cell_type": "code",
   "execution_count": 13,
   "id": "2c72af17",
   "metadata": {},
   "outputs": [],
   "source": [
    "random_kfolds = KFold(n_splits=6, random_state=23, shuffle=True) "
   ]
  },
  {
   "cell_type": "code",
   "execution_count": 14,
   "id": "a3633f48",
   "metadata": {},
   "outputs": [],
   "source": [
    "rf_random_cv_accuracy = cross_val_score(model_rf, X, y, cv=random_kfolds)"
   ]
  },
  {
   "cell_type": "code",
   "execution_count": 15,
   "id": "af2fcb10",
   "metadata": {},
   "outputs": [
    {
     "name": "stdout",
     "output_type": "stream",
     "text": [
      "RF random CV mean accuracy is: 0.804\n"
     ]
    }
   ],
   "source": [
    "rf_random_cv_accuracy_mean = np.nanmean(rf_random_cv_accuracy)\n",
    "print(f\"RF random CV mean accuracy is: {rf_random_cv_accuracy_mean:.3f}\")"
   ]
  },
  {
   "cell_type": "code",
   "execution_count": 16,
   "id": "195a67b3",
   "metadata": {},
   "outputs": [
    {
     "name": "stdout",
     "output_type": "stream",
     "text": [
      "RF random CV accuracy for each fold: [0.76760563 0.79049296 0.80952381 0.82010582 0.81128748 0.82539683]\n"
     ]
    }
   ],
   "source": [
    "# Calculate accuracy for each fold\n",
    "rf_random_cv_accuracy = cross_val_score(model_rf, X, y, cv=random_kfolds)\n",
    "print(f\"RF random CV accuracy for each fold: {rf_random_cv_accuracy}\")"
   ]
  },
  {
   "cell_type": "code",
   "execution_count": 17,
   "id": "b5ee71c5",
   "metadata": {},
   "outputs": [],
   "source": [
    "rf_random_cv_f1 = cross_val_score(model_rf, X, y, cv=random_kfolds, scoring=f1_scoring)"
   ]
  },
  {
   "cell_type": "code",
   "execution_count": 18,
   "id": "d2df361f",
   "metadata": {},
   "outputs": [
    {
     "name": "stdout",
     "output_type": "stream",
     "text": [
      "RF random CV mean F1-score is: 0.797\n"
     ]
    }
   ],
   "source": [
    "rf_random_cv_f1_mean = np.nanmean(rf_random_cv_f1)\n",
    "print(f\"RF random CV mean F1-score is: {rf_random_cv_f1_mean:.3f}\")"
   ]
  },
  {
   "cell_type": "code",
   "execution_count": 78,
   "id": "e809d725",
   "metadata": {},
   "outputs": [
    {
     "data": {
      "text/plain": [
       "array([0.77670004, 0.78776529, 0.80361612, 0.80412066, 0.80095278,\n",
       "       0.80771669])"
      ]
     },
     "execution_count": 78,
     "metadata": {},
     "output_type": "execute_result"
    }
   ],
   "source": [
    "rf_random_cv_f1"
   ]
  },
  {
   "cell_type": "markdown",
   "id": "b61e41d7",
   "metadata": {},
   "source": [
    "### RF Spatial CV (six folds)"
   ]
  },
  {
   "cell_type": "code",
   "execution_count": 310,
   "id": "25db2f94",
   "metadata": {},
   "outputs": [
    {
     "data": {
      "text/plain": [
       "6"
      ]
     },
     "execution_count": 310,
     "metadata": {},
     "output_type": "execute_result"
    }
   ],
   "source": [
    "spatial_kfolds = GroupKFold(n_splits=6)\n",
    "spatial_kfolds.get_n_splits(X, y, spcv_groups)"
   ]
  },
  {
   "cell_type": "code",
   "execution_count": 20,
   "id": "c66b2621",
   "metadata": {},
   "outputs": [],
   "source": [
    "rf_spatial_cv_accuracy = cross_val_score(model_rf, X, y, cv=spatial_kfolds, groups=spcv_groups)"
   ]
  },
  {
   "cell_type": "code",
   "execution_count": 21,
   "id": "09c4beec",
   "metadata": {},
   "outputs": [
    {
     "data": {
      "text/plain": [
       "array([0.65653775, 0.21731449, 0.70348837, 0.62401575, 0.5450237 ,\n",
       "       0.62418301])"
      ]
     },
     "execution_count": 21,
     "metadata": {},
     "output_type": "execute_result"
    }
   ],
   "source": [
    "rf_spatial_cv_accuracy"
   ]
  },
  {
   "cell_type": "code",
   "execution_count": 22,
   "id": "e06616b5",
   "metadata": {},
   "outputs": [
    {
     "name": "stdout",
     "output_type": "stream",
     "text": [
      "RF spatial CV mean accuracy is: 0.562\n"
     ]
    }
   ],
   "source": [
    "rf_spatial_cv_accuracy_mean = np.nanmean(rf_spatial_cv_accuracy)\n",
    "print(f\"RF spatial CV mean accuracy is: {rf_spatial_cv_accuracy_mean:.3f}\")"
   ]
  },
  {
   "cell_type": "code",
   "execution_count": 23,
   "id": "b0923468",
   "metadata": {},
   "outputs": [],
   "source": [
    "rf_spatial_cv_f1 = cross_val_score(model_rf, X, y, cv=spatial_kfolds, groups=spcv_groups, scoring=f1_scoring)"
   ]
  },
  {
   "cell_type": "code",
   "execution_count": 24,
   "id": "05f5fc9a",
   "metadata": {},
   "outputs": [
    {
     "name": "stdout",
     "output_type": "stream",
     "text": [
      "RF spatial CV mean F1-score is: 0.450\n"
     ]
    }
   ],
   "source": [
    "rf_spatial_cv_f1_mean = np.nanmean(rf_spatial_cv_f1)\n",
    "print(f\"RF spatial CV mean F1-score is: {rf_spatial_cv_f1_mean:.3f}\")"
   ]
  },
  {
   "cell_type": "code",
   "execution_count": 77,
   "id": "0cad6d04",
   "metadata": {},
   "outputs": [
    {
     "data": {
      "text/plain": [
       "array([0.44176595, 0.2866348 , 0.53556642, 0.428992  , 0.49717364,\n",
       "       0.50825727])"
      ]
     },
     "execution_count": 77,
     "metadata": {},
     "output_type": "execute_result"
    }
   ],
   "source": [
    "rf_spatial_cv_f1"
   ]
  },
  {
   "cell_type": "markdown",
   "id": "6aba633f",
   "metadata": {},
   "source": [
    "## XGB"
   ]
  },
  {
   "cell_type": "code",
   "execution_count": 25,
   "id": "47789be1",
   "metadata": {},
   "outputs": [],
   "source": [
    "model_xgb = XGBClassifier()"
   ]
  },
  {
   "cell_type": "markdown",
   "id": "bb77f052",
   "metadata": {},
   "source": [
    "### XGB Random CV (six folds)"
   ]
  },
  {
   "cell_type": "code",
   "execution_count": 26,
   "id": "fa0bf120",
   "metadata": {},
   "outputs": [],
   "source": [
    "xgb_random_cv_accuracy = cross_val_score(model_xgb, X, y, cv=random_kfolds)"
   ]
  },
  {
   "cell_type": "code",
   "execution_count": 27,
   "id": "ed4e2c17",
   "metadata": {},
   "outputs": [
    {
     "name": "stdout",
     "output_type": "stream",
     "text": [
      "XGB random CV mean accuracy is: 0.820\n"
     ]
    }
   ],
   "source": [
    "xgb_random_cv_accuracy_mean = np.nanmean(xgb_random_cv_accuracy)\n",
    "print(f\"XGB random CV mean accuracy is: {xgb_random_cv_accuracy_mean:.3f}\")"
   ]
  },
  {
   "cell_type": "code",
   "execution_count": 28,
   "id": "a601f345",
   "metadata": {},
   "outputs": [
    {
     "name": "stdout",
     "output_type": "stream",
     "text": [
      "xgb random CV accuracy for each fold: [0.79225352 0.80985915 0.81481481 0.83950617 0.8324515  0.8324515 ]\n"
     ]
    }
   ],
   "source": [
    "# Calculate accuracy for each fold\n",
    "xgb_random_cv_accuracy = cross_val_score(model_xgb, X, y, cv=random_kfolds)\n",
    "print(f\"xgb random CV accuracy for each fold: {xgb_random_cv_accuracy}\")"
   ]
  },
  {
   "cell_type": "code",
   "execution_count": 29,
   "id": "154eb3e9",
   "metadata": {},
   "outputs": [],
   "source": [
    "xgb_random_cv_f1 = cross_val_score(model_xgb, X, y, cv=random_kfolds, scoring=f1_scoring)"
   ]
  },
  {
   "cell_type": "code",
   "execution_count": 30,
   "id": "055e9733",
   "metadata": {},
   "outputs": [
    {
     "name": "stdout",
     "output_type": "stream",
     "text": [
      "XGB random CV mean F1-score is: 0.818\n"
     ]
    }
   ],
   "source": [
    "xgb_random_cv_f1_mean = np.nanmean(xgb_random_cv_f1)\n",
    "print(f\"XGB random CV mean F1-score is: {xgb_random_cv_f1_mean:.3f}\")"
   ]
  },
  {
   "cell_type": "code",
   "execution_count": 76,
   "id": "ca892e16",
   "metadata": {},
   "outputs": [
    {
     "data": {
      "text/plain": [
       "array([0.80097846, 0.8110228 , 0.81846204, 0.83405677, 0.82710042,\n",
       "       0.81918668])"
      ]
     },
     "execution_count": 76,
     "metadata": {},
     "output_type": "execute_result"
    }
   ],
   "source": [
    "xgb_random_cv_f1"
   ]
  },
  {
   "cell_type": "markdown",
   "id": "d489e770",
   "metadata": {},
   "source": [
    "### XGB Spatial CV (six folds)"
   ]
  },
  {
   "cell_type": "code",
   "execution_count": 302,
   "id": "fb2bcc9b",
   "metadata": {},
   "outputs": [
    {
     "data": {
      "text/plain": [
       "array([0, 1, 2, 3, 4, 5, 6], dtype=int64)"
      ]
     },
     "execution_count": 302,
     "metadata": {},
     "output_type": "execute_result"
    }
   ],
   "source": [
    "XYs = y_data['geometry']\n",
    "X = y_data.iloc[:,2:18]\n",
    "y = y_data['Name_3'].values.tolist()\n",
    "le = LabelEncoder()\n",
    "y = le.fit_transform(y)\n",
    "np.unique(y)"
   ]
  },
  {
   "cell_type": "code",
   "execution_count": 303,
   "id": "ab184fb5",
   "metadata": {},
   "outputs": [
    {
     "name": "stdout",
     "output_type": "stream",
     "text": [
      "[0 1 2 3 4 5 6]\n"
     ]
    }
   ],
   "source": [
    "import numpy as np\n",
    "print(np.unique(y))  # This will give us all unique class labels"
   ]
  },
  {
   "cell_type": "code",
   "execution_count": 304,
   "id": "abfe7acb",
   "metadata": {},
   "outputs": [],
   "source": [
    "params = {\n",
    "    'num_class': 7,\n",
    "}"
   ]
  },
  {
   "cell_type": "code",
   "execution_count": 305,
   "id": "02f35c62",
   "metadata": {},
   "outputs": [],
   "source": [
    "model_xgb2 = XGBClassifier(objective='multi:softmax', n_estimators= 1000,weights=[0.99, 0.01], **params)"
   ]
  },
  {
   "cell_type": "code",
   "execution_count": 306,
   "id": "ac767e5d",
   "metadata": {},
   "outputs": [
    {
     "name": "stderr",
     "output_type": "stream",
     "text": [
      "C:\\Users\\Manager\\anaconda3\\lib\\site-packages\\xgboost\\core.py:158: UserWarning: [16:37:35] WARNING: C:\\buildkite-agent\\builds\\buildkite-windows-cpu-autoscaling-group-i-0ed59c031377d09b8-1\\xgboost\\xgboost-ci-windows\\src\\learner.cc:740: \n",
      "Parameters: { \"weights\" } are not used.\n",
      "\n",
      "  warnings.warn(smsg, UserWarning)\n",
      "C:\\Users\\Manager\\anaconda3\\lib\\site-packages\\xgboost\\core.py:158: UserWarning: [16:37:38] WARNING: C:\\buildkite-agent\\builds\\buildkite-windows-cpu-autoscaling-group-i-0ed59c031377d09b8-1\\xgboost\\xgboost-ci-windows\\src\\learner.cc:740: \n",
      "Parameters: { \"weights\" } are not used.\n",
      "\n",
      "  warnings.warn(smsg, UserWarning)\n",
      "C:\\Users\\Manager\\anaconda3\\lib\\site-packages\\xgboost\\core.py:158: UserWarning: [16:37:42] WARNING: C:\\buildkite-agent\\builds\\buildkite-windows-cpu-autoscaling-group-i-0ed59c031377d09b8-1\\xgboost\\xgboost-ci-windows\\src\\learner.cc:740: \n",
      "Parameters: { \"weights\" } are not used.\n",
      "\n",
      "  warnings.warn(smsg, UserWarning)\n",
      "C:\\Users\\Manager\\anaconda3\\lib\\site-packages\\xgboost\\core.py:158: UserWarning: [16:37:46] WARNING: C:\\buildkite-agent\\builds\\buildkite-windows-cpu-autoscaling-group-i-0ed59c031377d09b8-1\\xgboost\\xgboost-ci-windows\\src\\learner.cc:740: \n",
      "Parameters: { \"weights\" } are not used.\n",
      "\n",
      "  warnings.warn(smsg, UserWarning)\n",
      "C:\\Users\\Manager\\anaconda3\\lib\\site-packages\\xgboost\\core.py:158: UserWarning: [16:37:50] WARNING: C:\\buildkite-agent\\builds\\buildkite-windows-cpu-autoscaling-group-i-0ed59c031377d09b8-1\\xgboost\\xgboost-ci-windows\\src\\learner.cc:740: \n",
      "Parameters: { \"weights\" } are not used.\n",
      "\n",
      "  warnings.warn(smsg, UserWarning)\n",
      "C:\\Users\\Manager\\anaconda3\\lib\\site-packages\\sklearn\\model_selection\\_validation.py:547: FitFailedWarning: \n",
      "1 fits failed out of a total of 6.\n",
      "The score on these train-test partitions for these parameters will be set to nan.\n",
      "If these failures are not expected, you can try to debug them by setting error_score='raise'.\n",
      "\n",
      "Below are more details about the failures:\n",
      "--------------------------------------------------------------------------------\n",
      "1 fits failed with the following error:\n",
      "Traceback (most recent call last):\n",
      "  File \"C:\\Users\\Manager\\anaconda3\\lib\\site-packages\\sklearn\\model_selection\\_validation.py\", line 895, in _fit_and_score\n",
      "    estimator.fit(X_train, y_train, **fit_params)\n",
      "  File \"C:\\Users\\Manager\\anaconda3\\lib\\site-packages\\xgboost\\core.py\", line 726, in inner_f\n",
      "    return func(**kwargs)\n",
      "  File \"C:\\Users\\Manager\\anaconda3\\lib\\site-packages\\xgboost\\sklearn.py\", line 1491, in fit\n",
      "    raise ValueError(\n",
      "ValueError: Invalid classes inferred from unique values of `y`.  Expected: [0 1 2 3 4 5], got [0 1 2 4 5 6]\n",
      "\n",
      "  warnings.warn(some_fits_failed_message, FitFailedWarning)\n"
     ]
    }
   ],
   "source": [
    "xgb_spatial_cv_accuracy = cross_val_score(model_xgb2, X, y, cv=spatial_kfolds, groups=spcv_groups)"
   ]
  },
  {
   "cell_type": "code",
   "execution_count": 307,
   "id": "94081849",
   "metadata": {},
   "outputs": [
    {
     "name": "stdout",
     "output_type": "stream",
     "text": [
      "XGB spatial CV mean accuracy is: 0.620\n"
     ]
    }
   ],
   "source": [
    "xgb_spatial_cv_accuracy_mean = np.nanmean(xgb_spatial_cv_accuracy)\n",
    "print(f\"XGB spatial CV mean accuracy is: {xgb_spatial_cv_accuracy_mean:.3f}\")"
   ]
  },
  {
   "cell_type": "code",
   "execution_count": 308,
   "id": "51b039da",
   "metadata": {},
   "outputs": [
    {
     "data": {
      "text/plain": [
       "array([0.6335175 ,        nan, 0.67829457, 0.60629921, 0.58530806,\n",
       "       0.59803922])"
      ]
     },
     "execution_count": 308,
     "metadata": {},
     "output_type": "execute_result"
    }
   ],
   "source": [
    "xgb_spatial_cv_accuracy"
   ]
  },
  {
   "cell_type": "code",
   "execution_count": 417,
   "id": "2d3e5a69",
   "metadata": {},
   "outputs": [
    {
     "name": "stderr",
     "output_type": "stream",
     "text": [
      "C:\\Users\\Manager\\anaconda3\\lib\\site-packages\\spacv\\grid_builder.py:112: ShapelyDeprecationWarning: The proxy geometries (through the 'asShape()', 'asPolygon()' or 'PolygonAdapter()' constructors) are deprecated and will be removed in Shapely 2.0. Use the 'shape()' function or the standard 'Polygon()' constructor instead.\n",
      "  polys = [asPolygon(polys[:,:,i]) for i in range(tiles_x*tiles_y)]\n",
      "C:\\Users\\Manager\\anaconda3\\lib\\site-packages\\spacv\\grid_builder.py:112: ShapelyDeprecationWarning: The proxy geometries (through the 'asShape()', 'asPolygon()' or 'PolygonAdapter()' constructors) are deprecated and will be removed in Shapely 2.0. Use the 'shape()' function or the standard 'Polygon()' constructor instead.\n",
      "  polys = [asPolygon(polys[:,:,i]) for i in range(tiles_x*tiles_y)]\n",
      "C:\\Users\\Manager\\anaconda3\\lib\\site-packages\\spacv\\grid_builder.py:112: ShapelyDeprecationWarning: The proxy geometries (through the 'asShape()', 'asPolygon()' or 'PolygonAdapter()' constructors) are deprecated and will be removed in Shapely 2.0. Use the 'shape()' function or the standard 'Polygon()' constructor instead.\n",
      "  polys = [asPolygon(polys[:,:,i]) for i in range(tiles_x*tiles_y)]\n",
      "C:\\Users\\Manager\\anaconda3\\lib\\site-packages\\spacv\\grid_builder.py:112: ShapelyDeprecationWarning: The proxy geometries (through the 'asShape()', 'asPolygon()' or 'PolygonAdapter()' constructors) are deprecated and will be removed in Shapely 2.0. Use the 'shape()' function or the standard 'Polygon()' constructor instead.\n",
      "  polys = [asPolygon(polys[:,:,i]) for i in range(tiles_x*tiles_y)]\n",
      "C:\\Users\\Manager\\anaconda3\\lib\\site-packages\\spacv\\grid_builder.py:112: ShapelyDeprecationWarning: The proxy geometries (through the 'asShape()', 'asPolygon()' or 'PolygonAdapter()' constructors) are deprecated and will be removed in Shapely 2.0. Use the 'shape()' function or the standard 'Polygon()' constructor instead.\n",
      "  polys = [asPolygon(polys[:,:,i]) for i in range(tiles_x*tiles_y)]\n",
      "C:\\Users\\Manager\\anaconda3\\lib\\site-packages\\spacv\\grid_builder.py:112: ShapelyDeprecationWarning: The proxy geometries (through the 'asShape()', 'asPolygon()' or 'PolygonAdapter()' constructors) are deprecated and will be removed in Shapely 2.0. Use the 'shape()' function or the standard 'Polygon()' constructor instead.\n",
      "  polys = [asPolygon(polys[:,:,i]) for i in range(tiles_x*tiles_y)]\n"
     ]
    },
    {
     "data": {
      "image/png": "[encoded data removed]",
      "text/plain": [
       "<Figure size 1800x600 with 6 Axes>"
      ]
     },
     "metadata": {},
     "output_type": "display_data"
    }
   ],
   "source": [
    "# Function to create the grid and plot with train/test points\n",
    "def plot_spatial_kfold_splits(XYs, folds, output_path=None):\n",
    "    # Create the plot\n",
    "    fig, axes = plt.subplots(1, len(folds), figsize=(18, 6), sharey=True)\n",
    "\n",
    "    for i, (train_idx, test_idx) in enumerate(folds):\n",
    "        # Assign labels for the fold\n",
    "        XYs['fold'] = 'Other'\n",
    "        XYs.loc[train_idx, 'fold'] = 'Train'\n",
    "        XYs.loc[test_idx, 'fold'] = 'Test'\n",
    "\n",
    "        # Plot the grid (construct_blocks is assumed to work with XYs)\n",
    "        grid = construct_blocks(XYs, tiles_x=1, tiles_y=6, method='unique')\n",
    "        grid.plot(\n",
    "            column='grid_id',\n",
    "            cmap='tab20',\n",
    "            edgecolor='black',\n",
    "            ax=axes[i]\n",
    "        )\n",
    "\n",
    "        # Plot the train and test points\n",
    "        XYs[XYs['fold'] == 'Train'].plot(ax=axes[i], color='blue', markersize=10, label='Train')\n",
    "        XYs[XYs['fold'] == 'Test'].plot(ax=axes[i], color='orange', markersize=10, label='Test')\n",
    "\n",
    "        # Add title for the fold\n",
    "        axes[i].set_title(f\"Fold {i + 1}\")\n",
    "        axes[i].axis('off')\n",
    "\n",
    "    # Add a legend to the figure\n",
    "    legend_elements = [\n",
    "        Patch(facecolor='blue', label='Train'),\n",
    "        Patch(facecolor='orange', label='Test')\n",
    "    ]\n",
    "    fig.legend(handles=legend_elements, loc='upper right', title=\"Fold Splits\")\n",
    "\n",
    "    # Adjust spacing manually\n",
    "    plt.subplots_adjust(left=0.05, right=0.95, top=0.95, bottom=0.05, wspace=0.01, hspace=0.01)\n",
    "\n",
    "    # Save the figure if output_path is provided\n",
    "    if output_path:\n",
    "        fig.savefig(output_path, dpi=2000, bbox_inches=\"tight\")\n",
    "\n",
    "    # Show the plot\n",
    "    plt.show()\n",
    "    \n",
    "# Call the function with your data and specify the output file path\n",
    "plot_spatial_kfold_splits(\n",
    "    XYs,\n",
    "    folds,\n",
    "    output_path='C:/Users/Manager/Desktop/Satya/Objective 1 Results/New output/spatial_kfold_splits.png'\n",
    ")\n"
   ]
  },
  {
   "cell_type": "code",
   "execution_count": 60,
   "id": "1a2363fb",
   "metadata": {},
   "outputs": [
    {
     "name": "stderr",
     "output_type": "stream",
     "text": [
      "C:\\Users\\Manager\\anaconda3\\lib\\site-packages\\sklearn\\model_selection\\_validation.py:547: FitFailedWarning: \n",
      "1 fits failed out of a total of 6.\n",
      "The score on these train-test partitions for these parameters will be set to nan.\n",
      "If these failures are not expected, you can try to debug them by setting error_score='raise'.\n",
      "\n",
      "Below are more details about the failures:\n",
      "--------------------------------------------------------------------------------\n",
      "1 fits failed with the following error:\n",
      "Traceback (most recent call last):\n",
      "  File \"C:\\Users\\Manager\\anaconda3\\lib\\site-packages\\sklearn\\model_selection\\_validation.py\", line 895, in _fit_and_score\n",
      "    estimator.fit(X_train, y_train, **fit_params)\n",
      "  File \"C:\\Users\\Manager\\anaconda3\\lib\\site-packages\\xgboost\\core.py\", line 726, in inner_f\n",
      "    return func(**kwargs)\n",
      "  File \"C:\\Users\\Manager\\anaconda3\\lib\\site-packages\\xgboost\\sklearn.py\", line 1491, in fit\n",
      "    raise ValueError(\n",
      "ValueError: Invalid classes inferred from unique values of `y`.  Expected: [0 1 2 3 4 5], got [0 1 2 4 5 6]\n",
      "\n",
      "  warnings.warn(some_fits_failed_message, FitFailedWarning)\n"
     ]
    }
   ],
   "source": [
    "xgb_spatial_cv_f1 = cross_val_score(model_xgb, X, y, cv=spatial_kfolds, groups=spcv_groups, scoring=f1_scoring)"
   ]
  },
  {
   "cell_type": "code",
   "execution_count": 61,
   "id": "85f9c0ab",
   "metadata": {},
   "outputs": [
    {
     "name": "stdout",
     "output_type": "stream",
     "text": [
      "XGB spatial CV mean accuracy is: 0.486\n"
     ]
    }
   ],
   "source": [
    "xgb_spatial_cv_f1_mean = np.nanmean(xgb_spatial_cv_f1)\n",
    "print(f\"XGB spatial CV mean accuracy is: {xgb_spatial_cv_f1_mean:.3f}\")"
   ]
  },
  {
   "cell_type": "code",
   "execution_count": 63,
   "id": "01742fd7",
   "metadata": {},
   "outputs": [
    {
     "data": {
      "text/plain": [
       "array([0.44530658,        nan, 0.55082313, 0.41257206, 0.5350882 ,\n",
       "       0.48538057])"
      ]
     },
     "execution_count": 63,
     "metadata": {},
     "output_type": "execute_result"
    }
   ],
   "source": [
    "xgb_spatial_cv_f1"
   ]
  },
  {
   "cell_type": "markdown",
   "id": "bb84b3b3",
   "metadata": {},
   "source": [
    "## LGB"
   ]
  },
  {
   "cell_type": "code",
   "execution_count": 64,
   "id": "f11aaf8c",
   "metadata": {},
   "outputs": [],
   "source": [
    "model_lgb = lgb.LGBMClassifier()"
   ]
  },
  {
   "cell_type": "markdown",
   "id": "ef12490f",
   "metadata": {},
   "source": [
    "### LGB Random CV (six folds)"
   ]
  },
  {
   "cell_type": "code",
   "execution_count": 65,
   "id": "196a564b",
   "metadata": {},
   "outputs": [],
   "source": [
    "lgb_random_cv_accuracy = cross_val_score(model_lgb, X, y, cv=random_kfolds)"
   ]
  },
  {
   "cell_type": "code",
   "execution_count": 66,
   "id": "159e9b70",
   "metadata": {},
   "outputs": [
    {
     "name": "stdout",
     "output_type": "stream",
     "text": [
      "LGB random CV mean accuracy is: 0.813\n"
     ]
    }
   ],
   "source": [
    "lgb_random_cv_accuracy_mean = np.nanmean(lgb_random_cv_accuracy)\n",
    "print(f\"LGB random CV mean accuracy is: {lgb_random_cv_accuracy_mean:.3f}\")"
   ]
  },
  {
   "cell_type": "code",
   "execution_count": 67,
   "id": "a5627392",
   "metadata": {},
   "outputs": [
    {
     "data": {
      "text/plain": [
       "array([0.77816901, 0.80457746, 0.80952381, 0.82892416, 0.81834215,\n",
       "       0.8377425 ])"
      ]
     },
     "execution_count": 67,
     "metadata": {},
     "output_type": "execute_result"
    }
   ],
   "source": [
    "lgb_random_cv_accuracy"
   ]
  },
  {
   "cell_type": "code",
   "execution_count": 68,
   "id": "3550a7ff",
   "metadata": {},
   "outputs": [],
   "source": [
    "lgb_random_cv_f1 = cross_val_score(model_lgb, X, y, cv=random_kfolds, scoring=f1_scoring)"
   ]
  },
  {
   "cell_type": "code",
   "execution_count": 69,
   "id": "a5ac15fd",
   "metadata": {},
   "outputs": [
    {
     "name": "stdout",
     "output_type": "stream",
     "text": [
      "LGB random CV mean F1-score is: 0.811\n"
     ]
    }
   ],
   "source": [
    "lgb_random_cv_f1_mean = np.nanmean(lgb_random_cv_f1)\n",
    "print(f\"LGB random CV mean F1-score is: {lgb_random_cv_f1_mean:.3f}\")"
   ]
  },
  {
   "cell_type": "code",
   "execution_count": 75,
   "id": "eca40d88",
   "metadata": {},
   "outputs": [
    {
     "data": {
      "text/plain": [
       "array([0.79053977, 0.80532527, 0.81342126, 0.81277416, 0.81765787,\n",
       "       0.82614663])"
      ]
     },
     "execution_count": 75,
     "metadata": {},
     "output_type": "execute_result"
    }
   ],
   "source": [
    "lgb_random_cv_f1"
   ]
  },
  {
   "cell_type": "markdown",
   "id": "0f7fa781",
   "metadata": {},
   "source": [
    "### LGB Spatial CV (six folds)"
   ]
  },
  {
   "cell_type": "code",
   "execution_count": 70,
   "id": "deb6e902",
   "metadata": {},
   "outputs": [],
   "source": [
    "lgb_spatial_cv_accuracy = cross_val_score(model_lgb, X, y, cv=spatial_kfolds, groups=spcv_groups)"
   ]
  },
  {
   "cell_type": "code",
   "execution_count": 71,
   "id": "b7c1344b",
   "metadata": {},
   "outputs": [
    {
     "name": "stdout",
     "output_type": "stream",
     "text": [
      "LGB spatial CV mean accuracy is: 0.566\n"
     ]
    }
   ],
   "source": [
    "lgb_spatial_cv_accuracy_mean = np.nanmean(lgb_spatial_cv_accuracy)\n",
    "print(f\"LGB spatial CV mean accuracy is: {lgb_spatial_cv_accuracy_mean:.3f}\")"
   ]
  },
  {
   "cell_type": "code",
   "execution_count": 72,
   "id": "0a695105",
   "metadata": {},
   "outputs": [
    {
     "data": {
      "text/plain": [
       "array([0.65009208, 0.21908127, 0.70348837, 0.62007874, 0.59478673,\n",
       "       0.60784314])"
      ]
     },
     "execution_count": 72,
     "metadata": {},
     "output_type": "execute_result"
    }
   ],
   "source": [
    "lgb_spatial_cv_accuracy"
   ]
  },
  {
   "cell_type": "code",
   "execution_count": 73,
   "id": "c334e252",
   "metadata": {},
   "outputs": [],
   "source": [
    "lgb_spatial_cv_f1 = cross_val_score(model_lgb, X, y, cv=spatial_kfolds, groups=spcv_groups, scoring=f1_scoring)"
   ]
  },
  {
   "cell_type": "code",
   "execution_count": 42,
   "id": "e49d59f9",
   "metadata": {},
   "outputs": [
    {
     "name": "stdout",
     "output_type": "stream",
     "text": [
      "LGB spatial F1 accuracy is: 0.455\n"
     ]
    }
   ],
   "source": [
    "lgb_spatial_cv_f1_mean = np.nanmean(lgb_spatial_cv_f1)\n",
    "print(f\"LGB spatial F1 accuracy is: {lgb_spatial_cv_f1_mean:.3f}\")"
   ]
  },
  {
   "cell_type": "code",
   "execution_count": 74,
   "id": "719dd189",
   "metadata": {},
   "outputs": [
    {
     "data": {
      "text/plain": [
       "array([0.44292204, 0.27100741, 0.55676755, 0.4230181 , 0.54003462,\n",
       "       0.49423865])"
      ]
     },
     "execution_count": 74,
     "metadata": {},
     "output_type": "execute_result"
    }
   ],
   "source": [
    "lgb_spatial_cv_f1"
   ]
  },
  {
   "cell_type": "markdown",
   "id": "ecf330f3",
   "metadata": {},
   "source": [
    "## Final Summary"
   ]
  },
  {
   "cell_type": "markdown",
   "id": "401dfaf4",
   "metadata": {},
   "source": [
    "### Make boxplots"
   ]
  },
  {
   "cell_type": "code",
   "execution_count": 79,
   "id": "6ff971a6",
   "metadata": {},
   "outputs": [],
   "source": [
    "model_names = np.concatenate([([i]*6) for i in ['RF', 'XGB', 'LGB']], axis=0)"
   ]
  },
  {
   "cell_type": "code",
   "execution_count": 80,
   "id": "6045293b",
   "metadata": {},
   "outputs": [],
   "source": [
    "# Accuracy dataframe\n",
    "rdcv_ac = pd.DataFrame({\n",
    "    'CV': ['Random']*18, \n",
    "    'Model': model_names.tolist(), \n",
    "    'Val': rf_random_cv_accuracy.tolist() + xgb_random_cv_accuracy.tolist() + lgb_random_cv_accuracy.tolist()\n",
    "})\n",
    "\n",
    "spcv_ac = pd.DataFrame({\n",
    "    'CV': ['Spatial']*18, \n",
    "    'Model': model_names.tolist(), \n",
    "    'Val': rf_spatial_cv_accuracy.tolist() + xgb_spatial_cv_accuracy.tolist() + lgb_spatial_cv_accuracy.tolist()\n",
    "})\n",
    "\n"
   ]
  },
  {
   "cell_type": "code",
   "execution_count": 81,
   "id": "eb63a275",
   "metadata": {},
   "outputs": [
    {
     "data": {
      "text/html": [
       "<div>\n",
       "<style scoped>\n",
       "    .dataframe tbody tr th:only-of-type {\n",
       "        vertical-align: middle;\n",
       "    }\n",
       "\n",
       "    .dataframe tbody tr th {\n",
       "        vertical-align: top;\n",
       "    }\n",
       "\n",
       "    .dataframe thead th {\n",
       "        text-align: right;\n",
       "    }\n",
       "</style>\n",
       "<table border=\"1\" class=\"dataframe\">\n",
       "  <thead>\n",
       "    <tr style=\"text-align: right;\">\n",
       "      <th></th>\n",
       "      <th>CV</th>\n",
       "      <th>Model</th>\n",
       "      <th>Val</th>\n",
       "      <th>Metric</th>\n",
       "    </tr>\n",
       "  </thead>\n",
       "  <tbody>\n",
       "    <tr>\n",
       "      <th>0</th>\n",
       "      <td>Random</td>\n",
       "      <td>RF</td>\n",
       "      <td>0.767606</td>\n",
       "      <td>Accuracy</td>\n",
       "    </tr>\n",
       "    <tr>\n",
       "      <th>1</th>\n",
       "      <td>Random</td>\n",
       "      <td>RF</td>\n",
       "      <td>0.790493</td>\n",
       "      <td>Accuracy</td>\n",
       "    </tr>\n",
       "    <tr>\n",
       "      <th>2</th>\n",
       "      <td>Random</td>\n",
       "      <td>RF</td>\n",
       "      <td>0.809524</td>\n",
       "      <td>Accuracy</td>\n",
       "    </tr>\n",
       "    <tr>\n",
       "      <th>3</th>\n",
       "      <td>Random</td>\n",
       "      <td>RF</td>\n",
       "      <td>0.820106</td>\n",
       "      <td>Accuracy</td>\n",
       "    </tr>\n",
       "    <tr>\n",
       "      <th>4</th>\n",
       "      <td>Random</td>\n",
       "      <td>RF</td>\n",
       "      <td>0.811287</td>\n",
       "      <td>Accuracy</td>\n",
       "    </tr>\n",
       "    <tr>\n",
       "      <th>5</th>\n",
       "      <td>Random</td>\n",
       "      <td>RF</td>\n",
       "      <td>0.825397</td>\n",
       "      <td>Accuracy</td>\n",
       "    </tr>\n",
       "    <tr>\n",
       "      <th>6</th>\n",
       "      <td>Random</td>\n",
       "      <td>XGB</td>\n",
       "      <td>0.792254</td>\n",
       "      <td>Accuracy</td>\n",
       "    </tr>\n",
       "    <tr>\n",
       "      <th>7</th>\n",
       "      <td>Random</td>\n",
       "      <td>XGB</td>\n",
       "      <td>0.809859</td>\n",
       "      <td>Accuracy</td>\n",
       "    </tr>\n",
       "    <tr>\n",
       "      <th>8</th>\n",
       "      <td>Random</td>\n",
       "      <td>XGB</td>\n",
       "      <td>0.814815</td>\n",
       "      <td>Accuracy</td>\n",
       "    </tr>\n",
       "    <tr>\n",
       "      <th>9</th>\n",
       "      <td>Random</td>\n",
       "      <td>XGB</td>\n",
       "      <td>0.839506</td>\n",
       "      <td>Accuracy</td>\n",
       "    </tr>\n",
       "    <tr>\n",
       "      <th>10</th>\n",
       "      <td>Random</td>\n",
       "      <td>XGB</td>\n",
       "      <td>0.832451</td>\n",
       "      <td>Accuracy</td>\n",
       "    </tr>\n",
       "    <tr>\n",
       "      <th>11</th>\n",
       "      <td>Random</td>\n",
       "      <td>XGB</td>\n",
       "      <td>0.832451</td>\n",
       "      <td>Accuracy</td>\n",
       "    </tr>\n",
       "    <tr>\n",
       "      <th>12</th>\n",
       "      <td>Random</td>\n",
       "      <td>LGB</td>\n",
       "      <td>0.778169</td>\n",
       "      <td>Accuracy</td>\n",
       "    </tr>\n",
       "    <tr>\n",
       "      <th>13</th>\n",
       "      <td>Random</td>\n",
       "      <td>LGB</td>\n",
       "      <td>0.804577</td>\n",
       "      <td>Accuracy</td>\n",
       "    </tr>\n",
       "    <tr>\n",
       "      <th>14</th>\n",
       "      <td>Random</td>\n",
       "      <td>LGB</td>\n",
       "      <td>0.809524</td>\n",
       "      <td>Accuracy</td>\n",
       "    </tr>\n",
       "    <tr>\n",
       "      <th>15</th>\n",
       "      <td>Random</td>\n",
       "      <td>LGB</td>\n",
       "      <td>0.828924</td>\n",
       "      <td>Accuracy</td>\n",
       "    </tr>\n",
       "    <tr>\n",
       "      <th>16</th>\n",
       "      <td>Random</td>\n",
       "      <td>LGB</td>\n",
       "      <td>0.818342</td>\n",
       "      <td>Accuracy</td>\n",
       "    </tr>\n",
       "    <tr>\n",
       "      <th>17</th>\n",
       "      <td>Random</td>\n",
       "      <td>LGB</td>\n",
       "      <td>0.837743</td>\n",
       "      <td>Accuracy</td>\n",
       "    </tr>\n",
       "    <tr>\n",
       "      <th>0</th>\n",
       "      <td>Spatial</td>\n",
       "      <td>RF</td>\n",
       "      <td>0.656538</td>\n",
       "      <td>Accuracy</td>\n",
       "    </tr>\n",
       "    <tr>\n",
       "      <th>2</th>\n",
       "      <td>Spatial</td>\n",
       "      <td>RF</td>\n",
       "      <td>0.703488</td>\n",
       "      <td>Accuracy</td>\n",
       "    </tr>\n",
       "    <tr>\n",
       "      <th>3</th>\n",
       "      <td>Spatial</td>\n",
       "      <td>RF</td>\n",
       "      <td>0.624016</td>\n",
       "      <td>Accuracy</td>\n",
       "    </tr>\n",
       "    <tr>\n",
       "      <th>4</th>\n",
       "      <td>Spatial</td>\n",
       "      <td>RF</td>\n",
       "      <td>0.545024</td>\n",
       "      <td>Accuracy</td>\n",
       "    </tr>\n",
       "    <tr>\n",
       "      <th>5</th>\n",
       "      <td>Spatial</td>\n",
       "      <td>RF</td>\n",
       "      <td>0.624183</td>\n",
       "      <td>Accuracy</td>\n",
       "    </tr>\n",
       "    <tr>\n",
       "      <th>6</th>\n",
       "      <td>Spatial</td>\n",
       "      <td>XGB</td>\n",
       "      <td>0.633517</td>\n",
       "      <td>Accuracy</td>\n",
       "    </tr>\n",
       "    <tr>\n",
       "      <th>8</th>\n",
       "      <td>Spatial</td>\n",
       "      <td>XGB</td>\n",
       "      <td>0.678295</td>\n",
       "      <td>Accuracy</td>\n",
       "    </tr>\n",
       "    <tr>\n",
       "      <th>9</th>\n",
       "      <td>Spatial</td>\n",
       "      <td>XGB</td>\n",
       "      <td>0.606299</td>\n",
       "      <td>Accuracy</td>\n",
       "    </tr>\n",
       "    <tr>\n",
       "      <th>10</th>\n",
       "      <td>Spatial</td>\n",
       "      <td>XGB</td>\n",
       "      <td>0.585308</td>\n",
       "      <td>Accuracy</td>\n",
       "    </tr>\n",
       "    <tr>\n",
       "      <th>11</th>\n",
       "      <td>Spatial</td>\n",
       "      <td>XGB</td>\n",
       "      <td>0.598039</td>\n",
       "      <td>Accuracy</td>\n",
       "    </tr>\n",
       "    <tr>\n",
       "      <th>12</th>\n",
       "      <td>Spatial</td>\n",
       "      <td>LGB</td>\n",
       "      <td>0.650092</td>\n",
       "      <td>Accuracy</td>\n",
       "    </tr>\n",
       "    <tr>\n",
       "      <th>14</th>\n",
       "      <td>Spatial</td>\n",
       "      <td>LGB</td>\n",
       "      <td>0.703488</td>\n",
       "      <td>Accuracy</td>\n",
       "    </tr>\n",
       "    <tr>\n",
       "      <th>15</th>\n",
       "      <td>Spatial</td>\n",
       "      <td>LGB</td>\n",
       "      <td>0.620079</td>\n",
       "      <td>Accuracy</td>\n",
       "    </tr>\n",
       "    <tr>\n",
       "      <th>16</th>\n",
       "      <td>Spatial</td>\n",
       "      <td>LGB</td>\n",
       "      <td>0.594787</td>\n",
       "      <td>Accuracy</td>\n",
       "    </tr>\n",
       "    <tr>\n",
       "      <th>17</th>\n",
       "      <td>Spatial</td>\n",
       "      <td>LGB</td>\n",
       "      <td>0.607843</td>\n",
       "      <td>Accuracy</td>\n",
       "    </tr>\n",
       "  </tbody>\n",
       "</table>\n",
       "</div>"
      ],
      "text/plain": [
       "         CV Model       Val    Metric\n",
       "0    Random    RF  0.767606  Accuracy\n",
       "1    Random    RF  0.790493  Accuracy\n",
       "2    Random    RF  0.809524  Accuracy\n",
       "3    Random    RF  0.820106  Accuracy\n",
       "4    Random    RF  0.811287  Accuracy\n",
       "5    Random    RF  0.825397  Accuracy\n",
       "6    Random   XGB  0.792254  Accuracy\n",
       "7    Random   XGB  0.809859  Accuracy\n",
       "8    Random   XGB  0.814815  Accuracy\n",
       "9    Random   XGB  0.839506  Accuracy\n",
       "10   Random   XGB  0.832451  Accuracy\n",
       "11   Random   XGB  0.832451  Accuracy\n",
       "12   Random   LGB  0.778169  Accuracy\n",
       "13   Random   LGB  0.804577  Accuracy\n",
       "14   Random   LGB  0.809524  Accuracy\n",
       "15   Random   LGB  0.828924  Accuracy\n",
       "16   Random   LGB  0.818342  Accuracy\n",
       "17   Random   LGB  0.837743  Accuracy\n",
       "0   Spatial    RF  0.656538  Accuracy\n",
       "2   Spatial    RF  0.703488  Accuracy\n",
       "3   Spatial    RF  0.624016  Accuracy\n",
       "4   Spatial    RF  0.545024  Accuracy\n",
       "5   Spatial    RF  0.624183  Accuracy\n",
       "6   Spatial   XGB  0.633517  Accuracy\n",
       "8   Spatial   XGB  0.678295  Accuracy\n",
       "9   Spatial   XGB  0.606299  Accuracy\n",
       "10  Spatial   XGB  0.585308  Accuracy\n",
       "11  Spatial   XGB  0.598039  Accuracy\n",
       "12  Spatial   LGB  0.650092  Accuracy\n",
       "14  Spatial   LGB  0.703488  Accuracy\n",
       "15  Spatial   LGB  0.620079  Accuracy\n",
       "16  Spatial   LGB  0.594787  Accuracy\n",
       "17  Spatial   LGB  0.607843  Accuracy"
      ]
     },
     "execution_count": 81,
     "metadata": {},
     "output_type": "execute_result"
    }
   ],
   "source": [
    "ac_df = pd.concat([rdcv_ac, spcv_ac.drop([1, 7, 13])])\n",
    "ac_df['Metric'] = 'Accuracy'\n",
    "ac_df"
   ]
  },
  {
   "cell_type": "code",
   "execution_count": 82,
   "id": "de697e02",
   "metadata": {},
   "outputs": [],
   "source": [
    "# F1 dataframe\n",
    "rdcv_f1 = pd.DataFrame({\n",
    "    'CV': ['Random']*18, \n",
    "    'Model': model_names.tolist(), \n",
    "    'Val': rf_random_cv_f1.tolist() + xgb_random_cv_f1.tolist() + lgb_random_cv_f1.tolist()\n",
    "})\n",
    "\n",
    "spcv_f1 = pd.DataFrame({\n",
    "    'CV': ['Spatial']*18, \n",
    "    'Model': model_names.tolist(), \n",
    "    'Val': rf_spatial_cv_f1.tolist() + xgb_spatial_cv_f1.tolist() + lgb_spatial_cv_f1.tolist()\n",
    "})"
   ]
  },
  {
   "cell_type": "code",
   "execution_count": 83,
   "id": "e19ca94c",
   "metadata": {},
   "outputs": [
    {
     "data": {
      "text/html": [
       "<div>\n",
       "<style scoped>\n",
       "    .dataframe tbody tr th:only-of-type {\n",
       "        vertical-align: middle;\n",
       "    }\n",
       "\n",
       "    .dataframe tbody tr th {\n",
       "        vertical-align: top;\n",
       "    }\n",
       "\n",
       "    .dataframe thead th {\n",
       "        text-align: right;\n",
       "    }\n",
       "</style>\n",
       "<table border=\"1\" class=\"dataframe\">\n",
       "  <thead>\n",
       "    <tr style=\"text-align: right;\">\n",
       "      <th></th>\n",
       "      <th>CV</th>\n",
       "      <th>Model</th>\n",
       "      <th>Val</th>\n",
       "      <th>Metric</th>\n",
       "    </tr>\n",
       "  </thead>\n",
       "  <tbody>\n",
       "    <tr>\n",
       "      <th>0</th>\n",
       "      <td>Random</td>\n",
       "      <td>RF</td>\n",
       "      <td>0.776700</td>\n",
       "      <td>F1-Score</td>\n",
       "    </tr>\n",
       "    <tr>\n",
       "      <th>1</th>\n",
       "      <td>Random</td>\n",
       "      <td>RF</td>\n",
       "      <td>0.787765</td>\n",
       "      <td>F1-Score</td>\n",
       "    </tr>\n",
       "    <tr>\n",
       "      <th>2</th>\n",
       "      <td>Random</td>\n",
       "      <td>RF</td>\n",
       "      <td>0.803616</td>\n",
       "      <td>F1-Score</td>\n",
       "    </tr>\n",
       "    <tr>\n",
       "      <th>3</th>\n",
       "      <td>Random</td>\n",
       "      <td>RF</td>\n",
       "      <td>0.804121</td>\n",
       "      <td>F1-Score</td>\n",
       "    </tr>\n",
       "    <tr>\n",
       "      <th>4</th>\n",
       "      <td>Random</td>\n",
       "      <td>RF</td>\n",
       "      <td>0.800953</td>\n",
       "      <td>F1-Score</td>\n",
       "    </tr>\n",
       "    <tr>\n",
       "      <th>5</th>\n",
       "      <td>Random</td>\n",
       "      <td>RF</td>\n",
       "      <td>0.807717</td>\n",
       "      <td>F1-Score</td>\n",
       "    </tr>\n",
       "    <tr>\n",
       "      <th>6</th>\n",
       "      <td>Random</td>\n",
       "      <td>XGB</td>\n",
       "      <td>0.800978</td>\n",
       "      <td>F1-Score</td>\n",
       "    </tr>\n",
       "    <tr>\n",
       "      <th>7</th>\n",
       "      <td>Random</td>\n",
       "      <td>XGB</td>\n",
       "      <td>0.811023</td>\n",
       "      <td>F1-Score</td>\n",
       "    </tr>\n",
       "    <tr>\n",
       "      <th>8</th>\n",
       "      <td>Random</td>\n",
       "      <td>XGB</td>\n",
       "      <td>0.818462</td>\n",
       "      <td>F1-Score</td>\n",
       "    </tr>\n",
       "    <tr>\n",
       "      <th>9</th>\n",
       "      <td>Random</td>\n",
       "      <td>XGB</td>\n",
       "      <td>0.834057</td>\n",
       "      <td>F1-Score</td>\n",
       "    </tr>\n",
       "    <tr>\n",
       "      <th>10</th>\n",
       "      <td>Random</td>\n",
       "      <td>XGB</td>\n",
       "      <td>0.827100</td>\n",
       "      <td>F1-Score</td>\n",
       "    </tr>\n",
       "    <tr>\n",
       "      <th>11</th>\n",
       "      <td>Random</td>\n",
       "      <td>XGB</td>\n",
       "      <td>0.819187</td>\n",
       "      <td>F1-Score</td>\n",
       "    </tr>\n",
       "    <tr>\n",
       "      <th>12</th>\n",
       "      <td>Random</td>\n",
       "      <td>LGB</td>\n",
       "      <td>0.790540</td>\n",
       "      <td>F1-Score</td>\n",
       "    </tr>\n",
       "    <tr>\n",
       "      <th>13</th>\n",
       "      <td>Random</td>\n",
       "      <td>LGB</td>\n",
       "      <td>0.805325</td>\n",
       "      <td>F1-Score</td>\n",
       "    </tr>\n",
       "    <tr>\n",
       "      <th>14</th>\n",
       "      <td>Random</td>\n",
       "      <td>LGB</td>\n",
       "      <td>0.813421</td>\n",
       "      <td>F1-Score</td>\n",
       "    </tr>\n",
       "    <tr>\n",
       "      <th>15</th>\n",
       "      <td>Random</td>\n",
       "      <td>LGB</td>\n",
       "      <td>0.812774</td>\n",
       "      <td>F1-Score</td>\n",
       "    </tr>\n",
       "    <tr>\n",
       "      <th>16</th>\n",
       "      <td>Random</td>\n",
       "      <td>LGB</td>\n",
       "      <td>0.817658</td>\n",
       "      <td>F1-Score</td>\n",
       "    </tr>\n",
       "    <tr>\n",
       "      <th>17</th>\n",
       "      <td>Random</td>\n",
       "      <td>LGB</td>\n",
       "      <td>0.826147</td>\n",
       "      <td>F1-Score</td>\n",
       "    </tr>\n",
       "    <tr>\n",
       "      <th>0</th>\n",
       "      <td>Spatial</td>\n",
       "      <td>RF</td>\n",
       "      <td>0.441766</td>\n",
       "      <td>F1-Score</td>\n",
       "    </tr>\n",
       "    <tr>\n",
       "      <th>2</th>\n",
       "      <td>Spatial</td>\n",
       "      <td>RF</td>\n",
       "      <td>0.535566</td>\n",
       "      <td>F1-Score</td>\n",
       "    </tr>\n",
       "    <tr>\n",
       "      <th>3</th>\n",
       "      <td>Spatial</td>\n",
       "      <td>RF</td>\n",
       "      <td>0.428992</td>\n",
       "      <td>F1-Score</td>\n",
       "    </tr>\n",
       "    <tr>\n",
       "      <th>4</th>\n",
       "      <td>Spatial</td>\n",
       "      <td>RF</td>\n",
       "      <td>0.497174</td>\n",
       "      <td>F1-Score</td>\n",
       "    </tr>\n",
       "    <tr>\n",
       "      <th>5</th>\n",
       "      <td>Spatial</td>\n",
       "      <td>RF</td>\n",
       "      <td>0.508257</td>\n",
       "      <td>F1-Score</td>\n",
       "    </tr>\n",
       "    <tr>\n",
       "      <th>6</th>\n",
       "      <td>Spatial</td>\n",
       "      <td>XGB</td>\n",
       "      <td>0.445307</td>\n",
       "      <td>F1-Score</td>\n",
       "    </tr>\n",
       "    <tr>\n",
       "      <th>8</th>\n",
       "      <td>Spatial</td>\n",
       "      <td>XGB</td>\n",
       "      <td>0.550823</td>\n",
       "      <td>F1-Score</td>\n",
       "    </tr>\n",
       "    <tr>\n",
       "      <th>9</th>\n",
       "      <td>Spatial</td>\n",
       "      <td>XGB</td>\n",
       "      <td>0.412572</td>\n",
       "      <td>F1-Score</td>\n",
       "    </tr>\n",
       "    <tr>\n",
       "      <th>10</th>\n",
       "      <td>Spatial</td>\n",
       "      <td>XGB</td>\n",
       "      <td>0.535088</td>\n",
       "      <td>F1-Score</td>\n",
       "    </tr>\n",
       "    <tr>\n",
       "      <th>11</th>\n",
       "      <td>Spatial</td>\n",
       "      <td>XGB</td>\n",
       "      <td>0.485381</td>\n",
       "      <td>F1-Score</td>\n",
       "    </tr>\n",
       "    <tr>\n",
       "      <th>12</th>\n",
       "      <td>Spatial</td>\n",
       "      <td>LGB</td>\n",
       "      <td>0.442922</td>\n",
       "      <td>F1-Score</td>\n",
       "    </tr>\n",
       "    <tr>\n",
       "      <th>14</th>\n",
       "      <td>Spatial</td>\n",
       "      <td>LGB</td>\n",
       "      <td>0.556768</td>\n",
       "      <td>F1-Score</td>\n",
       "    </tr>\n",
       "    <tr>\n",
       "      <th>15</th>\n",
       "      <td>Spatial</td>\n",
       "      <td>LGB</td>\n",
       "      <td>0.423018</td>\n",
       "      <td>F1-Score</td>\n",
       "    </tr>\n",
       "    <tr>\n",
       "      <th>16</th>\n",
       "      <td>Spatial</td>\n",
       "      <td>LGB</td>\n",
       "      <td>0.540035</td>\n",
       "      <td>F1-Score</td>\n",
       "    </tr>\n",
       "    <tr>\n",
       "      <th>17</th>\n",
       "      <td>Spatial</td>\n",
       "      <td>LGB</td>\n",
       "      <td>0.494239</td>\n",
       "      <td>F1-Score</td>\n",
       "    </tr>\n",
       "  </tbody>\n",
       "</table>\n",
       "</div>"
      ],
      "text/plain": [
       "         CV Model       Val    Metric\n",
       "0    Random    RF  0.776700  F1-Score\n",
       "1    Random    RF  0.787765  F1-Score\n",
       "2    Random    RF  0.803616  F1-Score\n",
       "3    Random    RF  0.804121  F1-Score\n",
       "4    Random    RF  0.800953  F1-Score\n",
       "5    Random    RF  0.807717  F1-Score\n",
       "6    Random   XGB  0.800978  F1-Score\n",
       "7    Random   XGB  0.811023  F1-Score\n",
       "8    Random   XGB  0.818462  F1-Score\n",
       "9    Random   XGB  0.834057  F1-Score\n",
       "10   Random   XGB  0.827100  F1-Score\n",
       "11   Random   XGB  0.819187  F1-Score\n",
       "12   Random   LGB  0.790540  F1-Score\n",
       "13   Random   LGB  0.805325  F1-Score\n",
       "14   Random   LGB  0.813421  F1-Score\n",
       "15   Random   LGB  0.812774  F1-Score\n",
       "16   Random   LGB  0.817658  F1-Score\n",
       "17   Random   LGB  0.826147  F1-Score\n",
       "0   Spatial    RF  0.441766  F1-Score\n",
       "2   Spatial    RF  0.535566  F1-Score\n",
       "3   Spatial    RF  0.428992  F1-Score\n",
       "4   Spatial    RF  0.497174  F1-Score\n",
       "5   Spatial    RF  0.508257  F1-Score\n",
       "6   Spatial   XGB  0.445307  F1-Score\n",
       "8   Spatial   XGB  0.550823  F1-Score\n",
       "9   Spatial   XGB  0.412572  F1-Score\n",
       "10  Spatial   XGB  0.535088  F1-Score\n",
       "11  Spatial   XGB  0.485381  F1-Score\n",
       "12  Spatial   LGB  0.442922  F1-Score\n",
       "14  Spatial   LGB  0.556768  F1-Score\n",
       "15  Spatial   LGB  0.423018  F1-Score\n",
       "16  Spatial   LGB  0.540035  F1-Score\n",
       "17  Spatial   LGB  0.494239  F1-Score"
      ]
     },
     "execution_count": 83,
     "metadata": {},
     "output_type": "execute_result"
    }
   ],
   "source": [
    "f1_df = pd.concat([rdcv_f1, spcv_f1.drop([1, 7, 13])])\n",
    "f1_df['Metric'] = 'F1-Score'\n",
    "f1_df"
   ]
  },
  {
   "cell_type": "code",
   "execution_count": 84,
   "id": "9306ff7a",
   "metadata": {},
   "outputs": [
    {
     "data": {
      "text/html": [
       "<div>\n",
       "<style scoped>\n",
       "    .dataframe tbody tr th:only-of-type {\n",
       "        vertical-align: middle;\n",
       "    }\n",
       "\n",
       "    .dataframe tbody tr th {\n",
       "        vertical-align: top;\n",
       "    }\n",
       "\n",
       "    .dataframe thead th {\n",
       "        text-align: right;\n",
       "    }\n",
       "</style>\n",
       "<table border=\"1\" class=\"dataframe\">\n",
       "  <thead>\n",
       "    <tr style=\"text-align: right;\">\n",
       "      <th></th>\n",
       "      <th>CV</th>\n",
       "      <th>Model</th>\n",
       "      <th>Val</th>\n",
       "      <th>Metric</th>\n",
       "    </tr>\n",
       "  </thead>\n",
       "  <tbody>\n",
       "    <tr>\n",
       "      <th>0</th>\n",
       "      <td>Random</td>\n",
       "      <td>RF</td>\n",
       "      <td>0.767606</td>\n",
       "      <td>Accuracy</td>\n",
       "    </tr>\n",
       "    <tr>\n",
       "      <th>1</th>\n",
       "      <td>Random</td>\n",
       "      <td>RF</td>\n",
       "      <td>0.790493</td>\n",
       "      <td>Accuracy</td>\n",
       "    </tr>\n",
       "    <tr>\n",
       "      <th>2</th>\n",
       "      <td>Random</td>\n",
       "      <td>RF</td>\n",
       "      <td>0.809524</td>\n",
       "      <td>Accuracy</td>\n",
       "    </tr>\n",
       "    <tr>\n",
       "      <th>3</th>\n",
       "      <td>Random</td>\n",
       "      <td>RF</td>\n",
       "      <td>0.820106</td>\n",
       "      <td>Accuracy</td>\n",
       "    </tr>\n",
       "    <tr>\n",
       "      <th>4</th>\n",
       "      <td>Random</td>\n",
       "      <td>RF</td>\n",
       "      <td>0.811287</td>\n",
       "      <td>Accuracy</td>\n",
       "    </tr>\n",
       "    <tr>\n",
       "      <th>...</th>\n",
       "      <td>...</td>\n",
       "      <td>...</td>\n",
       "      <td>...</td>\n",
       "      <td>...</td>\n",
       "    </tr>\n",
       "    <tr>\n",
       "      <th>12</th>\n",
       "      <td>Spatial</td>\n",
       "      <td>LGB</td>\n",
       "      <td>0.442922</td>\n",
       "      <td>F1-Score</td>\n",
       "    </tr>\n",
       "    <tr>\n",
       "      <th>14</th>\n",
       "      <td>Spatial</td>\n",
       "      <td>LGB</td>\n",
       "      <td>0.556768</td>\n",
       "      <td>F1-Score</td>\n",
       "    </tr>\n",
       "    <tr>\n",
       "      <th>15</th>\n",
       "      <td>Spatial</td>\n",
       "      <td>LGB</td>\n",
       "      <td>0.423018</td>\n",
       "      <td>F1-Score</td>\n",
       "    </tr>\n",
       "    <tr>\n",
       "      <th>16</th>\n",
       "      <td>Spatial</td>\n",
       "      <td>LGB</td>\n",
       "      <td>0.540035</td>\n",
       "      <td>F1-Score</td>\n",
       "    </tr>\n",
       "    <tr>\n",
       "      <th>17</th>\n",
       "      <td>Spatial</td>\n",
       "      <td>LGB</td>\n",
       "      <td>0.494239</td>\n",
       "      <td>F1-Score</td>\n",
       "    </tr>\n",
       "  </tbody>\n",
       "</table>\n",
       "<p>66 rows × 4 columns</p>\n",
       "</div>"
      ],
      "text/plain": [
       "         CV Model       Val    Metric\n",
       "0    Random    RF  0.767606  Accuracy\n",
       "1    Random    RF  0.790493  Accuracy\n",
       "2    Random    RF  0.809524  Accuracy\n",
       "3    Random    RF  0.820106  Accuracy\n",
       "4    Random    RF  0.811287  Accuracy\n",
       "..      ...   ...       ...       ...\n",
       "12  Spatial   LGB  0.442922  F1-Score\n",
       "14  Spatial   LGB  0.556768  F1-Score\n",
       "15  Spatial   LGB  0.423018  F1-Score\n",
       "16  Spatial   LGB  0.540035  F1-Score\n",
       "17  Spatial   LGB  0.494239  F1-Score\n",
       "\n",
       "[66 rows x 4 columns]"
      ]
     },
     "execution_count": 84,
     "metadata": {},
     "output_type": "execute_result"
    }
   ],
   "source": [
    "metric_df = pd.concat([ac_df, f1_df])\n",
    "metric_df"
   ]
  },
  {
   "cell_type": "code",
   "execution_count": 115,
   "id": "4eed0614",
   "metadata": {},
   "outputs": [
    {
     "data": {
      "text/html": [
       "<div>\n",
       "<style scoped>\n",
       "    .dataframe tbody tr th:only-of-type {\n",
       "        vertical-align: middle;\n",
       "    }\n",
       "\n",
       "    .dataframe tbody tr th {\n",
       "        vertical-align: top;\n",
       "    }\n",
       "\n",
       "    .dataframe thead tr th {\n",
       "        text-align: left;\n",
       "    }\n",
       "\n",
       "    .dataframe thead tr:last-of-type th {\n",
       "        text-align: right;\n",
       "    }\n",
       "</style>\n",
       "<table border=\"1\" class=\"dataframe\">\n",
       "  <thead>\n",
       "    <tr>\n",
       "      <th></th>\n",
       "      <th></th>\n",
       "      <th>Val</th>\n",
       "    </tr>\n",
       "    <tr>\n",
       "      <th></th>\n",
       "      <th></th>\n",
       "      <th>mean</th>\n",
       "    </tr>\n",
       "    <tr>\n",
       "      <th>CV</th>\n",
       "      <th>Model</th>\n",
       "      <th></th>\n",
       "    </tr>\n",
       "  </thead>\n",
       "  <tbody>\n",
       "    <tr>\n",
       "      <th rowspan=\"3\" valign=\"top\">Random</th>\n",
       "      <th>LGB</th>\n",
       "      <td>0.812880</td>\n",
       "    </tr>\n",
       "    <tr>\n",
       "      <th>RF</th>\n",
       "      <td>0.804069</td>\n",
       "    </tr>\n",
       "    <tr>\n",
       "      <th>XGB</th>\n",
       "      <td>0.820223</td>\n",
       "    </tr>\n",
       "    <tr>\n",
       "      <th rowspan=\"3\" valign=\"top\">Spatial</th>\n",
       "      <th>LGB</th>\n",
       "      <td>0.635258</td>\n",
       "    </tr>\n",
       "    <tr>\n",
       "      <th>RF</th>\n",
       "      <td>0.630650</td>\n",
       "    </tr>\n",
       "    <tr>\n",
       "      <th>XGB</th>\n",
       "      <td>0.630066</td>\n",
       "    </tr>\n",
       "  </tbody>\n",
       "</table>\n",
       "</div>"
      ],
      "text/plain": [
       "                    Val\n",
       "                   mean\n",
       "CV      Model          \n",
       "Random  LGB    0.812880\n",
       "        RF     0.804069\n",
       "        XGB    0.820223\n",
       "Spatial LGB    0.635258\n",
       "        RF     0.630650\n",
       "        XGB    0.630066"
      ]
     },
     "execution_count": 115,
     "metadata": {},
     "output_type": "execute_result"
    }
   ],
   "source": [
    "ac_df.groupby(['CV', 'Model'])[['Val']].aggregate(['mean'])"
   ]
  },
  {
   "cell_type": "code",
   "execution_count": 418,
   "id": "ae75428a",
   "metadata": {},
   "outputs": [
    {
     "data": {
      "image/png": "[encoded data removed]",
      "text/plain": [
       "<Figure size 1500x500 with 2 Axes>"
      ]
     },
     "metadata": {},
     "output_type": "display_data"
    }
   ],
   "source": [
    "import pandas as pd\n",
    "import seaborn as sns\n",
    "import matplotlib.pyplot as plt\n",
    "\n",
    "# Data for Overall Accuracy and F1 Score for Random and Spatial Cross-validation\n",
    "overall_accuracy_random = {\n",
    "    'Fold': ['Fold 1', 'Fold 2', 'Fold 3', 'Fold 4', 'Fold 5', 'Fold 6'],\n",
    "    'RF': [0.77, 0.79, 0.81, 0.82, 0.81, 0.82],\n",
    "    'XGB': [0.79, 0.81, 0.81, 0.84, 0.83, 0.83],\n",
    "    'LGB': [0.78, 0.80, 0.81, 0.83, 0.82, 0.84]\n",
    "}\n",
    "\n",
    "spatial_accuracy = {\n",
    "    'Fold': ['Fold 1', 'Fold 2', 'Fold 3', 'Fold 4', 'Fold 5', 'Fold 6'],\n",
    "    'RF': [0.66, 0.22, 0.70, 0.62, 0.54, 0.62],\n",
    "    'XGB': [0.65, 0.23, 0.70, 0.60, 0.59, 0.59],\n",
    "    'LGB': [0.65, 0.22, 0.70, 0.62, 0.50, 0.61]\n",
    "}\n",
    "\n",
    "f1_score_random = {\n",
    "    'Fold': ['Fold 1', 'Fold 2', 'Fold 3', 'Fold 4', 'Fold 5', 'Fold 6'],\n",
    "    'RF': [0.78, 0.789, 0.80, 0.80, 0.80, 0.81],\n",
    "    'XGB': [0.80, 0.81, 0.82, 0.83, 0.83, 0.82],\n",
    "    'LGB': [0.79, 0.80, 0.81, 0.81, 0.82, 0.83]\n",
    "}\n",
    "\n",
    "spatial_f1_score = {\n",
    "    'Fold': ['Fold 1', 'Fold 2', 'Fold 3', 'Fold 4', 'Fold 5', 'Fold 6'],\n",
    "    'RF': [0.44, 0.29, 0.54, 0.43, 0.50, 0.51],\n",
    "    'XGB': [0.45, 0.28, 0.55, 0.41, 0.54, 0.49],\n",
    "    'LGB': [0.44, 0.27, 0.56, 0.42, 0.54, 0.49]\n",
    "}\n",
    "\n",
    "# Convert to DataFrames for plotting\n",
    "df_accuracy_random = pd.DataFrame(overall_accuracy_random)\n",
    "df_accuracy_random['Metric'] = 'Overall Accuracy Score'\n",
    "df_accuracy_random = df_accuracy_random.melt(id_vars=['Fold', 'Metric'], value_vars=['RF', 'XGB', 'LGB'], \n",
    "                                              var_name='Model', value_name='Val')\n",
    "\n",
    "df_f1_random = pd.DataFrame(f1_score_random)\n",
    "df_f1_random['Metric'] = 'F1 Score'\n",
    "df_f1_random = df_f1_random.melt(id_vars=['Fold', 'Metric'], value_vars=['RF', 'XGB', 'LGB'], \n",
    "                                  var_name='Model', value_name='Val')\n",
    "\n",
    "df_accuracy_spatial = pd.DataFrame(spatial_accuracy)\n",
    "df_accuracy_spatial['Metric'] = 'Overall Accuracy Score'\n",
    "df_accuracy_spatial = df_accuracy_spatial.melt(id_vars=['Fold', 'Metric'], value_vars=['RF', 'XGB', 'LGB'], \n",
    "                                               var_name='Model', value_name='Val')\n",
    "\n",
    "df_f1_spatial = pd.DataFrame(spatial_f1_score)\n",
    "df_f1_spatial['Metric'] = 'F1 Score'\n",
    "df_f1_spatial = df_f1_spatial.melt(id_vars=['Fold', 'Metric'], value_vars=['RF', 'XGB', 'LGB'], \n",
    "                                    var_name='Model', value_name='Val')\n",
    "\n",
    "# Add 'CV' column for Cross-validation type\n",
    "df_accuracy_random['CV'] = 'Random'\n",
    "df_f1_random['CV'] = 'Random'\n",
    "\n",
    "df_accuracy_spatial['CV'] = 'Spatial'\n",
    "df_f1_spatial['CV'] = 'Spatial'\n",
    "\n",
    "# Combine all data for plotting\n",
    "metric_df = pd.concat([df_accuracy_random, df_f1_random, df_accuracy_spatial, df_f1_spatial])\n",
    "\n",
    "# Set a more visually appealing color palette\n",
    "#custom_palette = sns.color_palette(\"Paired\", n_colors=len(metric_df['Model'].unique()))\n",
    "custom_palette = sns.color_palette(n_colors=len(metric_df['Model'].unique()))\n",
    "\n",
    "# Create subplots without sharing the y-axis\n",
    "fig, ax = plt.subplots(1, len(metric_df['Metric'].unique()), figsize=(15, 5))\n",
    "\n",
    "# Define y-axis labels for each subplot\n",
    "y_labels = ['Overall Accuracy Score', 'F1 Score']\n",
    "\n",
    "# Loop through unique metrics and plot\n",
    "for i, metric in enumerate(metric_df['Metric'].unique()):\n",
    "    sns.boxplot(\n",
    "        data=metric_df[metric_df['Metric'] == metric],\n",
    "        x='CV', y='Val', hue='Model', ax=ax[i], palette=custom_palette, linewidth=0.6,\n",
    "        # showmeans=True, meanline=True, \n",
    "        #meanprops={'color': 'black', 'linewidth': 1},  # Black line for the mean\n",
    "        medianprops={'color': 'white'}  # Remove the black median line\n",
    "    )\n",
    "    \n",
    "    # Customize each subplot\n",
    "    #ax[i].grid(None, linestyle='--', alpha=0.3, color='lightgray')  # Adjust grid appearance\n",
    "    ax[i].set_xlabel('Cross Validation', fontsize=12, fontfamily='serif')\n",
    "    ax[i].set_ylabel(y_labels[i], fontsize=12, fontfamily='serif')\n",
    "    ax[i].legend(title='Model', title_fontsize='12', loc='upper right', prop={'family': 'serif'})\n",
    "    plt.gca().set_aspect('auto', adjustable='box')  # Adjust aspect ratio\n",
    "\n",
    "# Adjust the white space between subplots\n",
    "plt.subplots_adjust(wspace=0.2)\n",
    "\n",
    "# Save the plot before calling plt.show()\n",
    "plt.savefig('C:/Users/Manager/Desktop/Satya/Objective 1 Results/New output/Boxplot_21NOV.png', bbox_inches='tight', dpi=2000)\n",
    "\n",
    "# Show the plot\n",
    "plt.show()\n"
   ]
  },
  {
   "cell_type": "code",
   "execution_count": null,
   "id": "6203c821",
   "metadata": {},
   "outputs": [],
   "source": [
    "ac_df.groupby(['CV', 'Model'])[['Val']].aggregate(['mean'])"
   ]
  },
  {
   "cell_type": "markdown",
   "id": "7eb5429f",
   "metadata": {},
   "source": [
    "### F1-Score (Macro)"
   ]
  },
  {
   "cell_type": "code",
   "execution_count": 51,
   "id": "f77103c1",
   "metadata": {},
   "outputs": [
    {
     "data": {
      "text/html": [
       "<div>\n",
       "<style scoped>\n",
       "    .dataframe tbody tr th:only-of-type {\n",
       "        vertical-align: middle;\n",
       "    }\n",
       "\n",
       "    .dataframe tbody tr th {\n",
       "        vertical-align: top;\n",
       "    }\n",
       "\n",
       "    .dataframe thead tr th {\n",
       "        text-align: left;\n",
       "    }\n",
       "\n",
       "    .dataframe thead tr:last-of-type th {\n",
       "        text-align: right;\n",
       "    }\n",
       "</style>\n",
       "<table border=\"1\" class=\"dataframe\">\n",
       "  <thead>\n",
       "    <tr>\n",
       "      <th></th>\n",
       "      <th></th>\n",
       "      <th>Val</th>\n",
       "    </tr>\n",
       "    <tr>\n",
       "      <th></th>\n",
       "      <th></th>\n",
       "      <th>mean</th>\n",
       "    </tr>\n",
       "    <tr>\n",
       "      <th>CV</th>\n",
       "      <th>Model</th>\n",
       "      <th></th>\n",
       "    </tr>\n",
       "  </thead>\n",
       "  <tbody>\n",
       "    <tr>\n",
       "      <th rowspan=\"3\" valign=\"top\">Random</th>\n",
       "      <th>LGB</th>\n",
       "      <td>0.810977</td>\n",
       "    </tr>\n",
       "    <tr>\n",
       "      <th>RF</th>\n",
       "      <td>0.796812</td>\n",
       "    </tr>\n",
       "    <tr>\n",
       "      <th>XGB</th>\n",
       "      <td>0.818468</td>\n",
       "    </tr>\n",
       "    <tr>\n",
       "      <th rowspan=\"3\" valign=\"top\">Spatial</th>\n",
       "      <th>LGB</th>\n",
       "      <td>0.491396</td>\n",
       "    </tr>\n",
       "    <tr>\n",
       "      <th>RF</th>\n",
       "      <td>0.482351</td>\n",
       "    </tr>\n",
       "    <tr>\n",
       "      <th>XGB</th>\n",
       "      <td>0.485834</td>\n",
       "    </tr>\n",
       "  </tbody>\n",
       "</table>\n",
       "</div>"
      ],
      "text/plain": [
       "                    Val\n",
       "                   mean\n",
       "CV      Model          \n",
       "Random  LGB    0.810977\n",
       "        RF     0.796812\n",
       "        XGB    0.818468\n",
       "Spatial LGB    0.491396\n",
       "        RF     0.482351\n",
       "        XGB    0.485834"
      ]
     },
     "execution_count": 51,
     "metadata": {},
     "output_type": "execute_result"
    }
   ],
   "source": [
    "f1_df.groupby(['CV', 'Model'])[['Val']].aggregate(['mean'])"
   ]
  },
  {
   "cell_type": "code",
   "execution_count": 389,
   "id": "c50c938c",
   "metadata": {},
   "outputs": [],
   "source": [
    "RF_F1 = [0.44, 0.29, 0.54, 0.43, 0.50, 0.51]\n",
    "XGB_F1 = [0.45, 0.28, 0.55, 0.41, 0.54, 0.49]\n",
    "LGB_F1 = [0.44, 0.27, 0.56, 0.42, 0.54, 0.49]"
   ]
  },
  {
   "cell_type": "code",
   "execution_count": 390,
   "id": "bd886fcb",
   "metadata": {},
   "outputs": [
    {
     "data": {
      "text/plain": [
       "0.47"
      ]
     },
     "execution_count": 390,
     "metadata": {},
     "output_type": "execute_result"
    }
   ],
   "source": [
    "import statistics\n",
    "statistics.median(RF_F1)"
   ]
  },
  {
   "cell_type": "code",
   "execution_count": 391,
   "id": "ff94feb5",
   "metadata": {},
   "outputs": [
    {
     "data": {
      "text/plain": [
       "0.47"
      ]
     },
     "execution_count": 391,
     "metadata": {},
     "output_type": "execute_result"
    }
   ],
   "source": [
    "import statistics\n",
    "statistics.median(XGB_F1)"
   ]
  },
  {
   "cell_type": "code",
   "execution_count": 392,
   "id": "a1cfa14b",
   "metadata": {},
   "outputs": [
    {
     "data": {
      "text/plain": [
       "0.46499999999999997"
      ]
     },
     "execution_count": 392,
     "metadata": {},
     "output_type": "execute_result"
    }
   ],
   "source": [
    "import statistics\n",
    "statistics.median(LGB_F1)"
   ]
  },
  {
   "cell_type": "code",
   "execution_count": null,
   "id": "96f7fc75",
   "metadata": {},
   "outputs": [],
   "source": []
  }
 ],
 "metadata": {
  "kernelspec": {
   "display_name": "Python 3 (ipykernel)",
   "language": "python",
   "name": "python3"
  },
  "language_info": {
   "codemirror_mode": {
    "name": "ipython",
    "version": 3
   },
   "file_extension": ".py",
   "mimetype": "text/x-python",
   "name": "python",
   "nbconvert_exporter": "python",
   "pygments_lexer": "ipython3",
   "version": "3.9.19"
  }
 },
 "nbformat": 4,
 "nbformat_minor": 5
}
